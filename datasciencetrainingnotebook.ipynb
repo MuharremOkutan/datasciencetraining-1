{
 "cells": [
  {
   "cell_type": "markdown",
   "metadata": {},
   "source": [
    "# Get Data from files and help to make a breastcancer diagnosis\n",
    "\n",
    "This litte coding example will show you the basics of data science with python.\n",
    "First we will add imports we need to import, shape and display our data:\n",
    "\n",
    "We will import [**numpy**](http://www.numpy.org/), [**Pandas**](https://pandas.pydata.org/)  and [**matplotlib**](https://matplotlib.org). With this libaries we will be able to handle arrays, load data into our project, shape them to the state we need and plot graphics helping us to understand what this numbers mean basically.\n",
    "\n",
    "Ok let us import this libaries"
   ]
  },
  {
   "cell_type": "code",
   "execution_count": 1,
   "metadata": {},
   "outputs": [],
   "source": [
    "# -*- coding: utf-8 -*-\n",
    "import numpy as np\n",
    "import pandas as pd\n",
    "import matplotlib as mpl\n",
    "import matplotlib.pyplot as plt "
   ]
  },
  {
   "cell_type": "markdown",
   "metadata": {},
   "source": [
    "#### Load the dataset\n",
    "\n",
    "Next step will be to load a dataset this dataset is from https://archive.ics.uci.edu/ml/machine-learning-databases/breast-cancer/. \n",
    "This page is offering a lot of datasets for training or playing with it and learning data science and machine learning."
   ]
  },
  {
   "cell_type": "code",
   "execution_count": 2,
   "metadata": {},
   "outputs": [],
   "source": [
    "Cov = pd.read_csv(\"breast-cancer.csv\", delimiter=',')"
   ]
  },
  {
   "cell_type": "markdown",
   "metadata": {},
   "source": [
    "#### Check the Dataset\n",
    "\n",
    "It seems that there is no headline in the dataset, so there are missing important information. We have to go to the [**site**](https://archive.ics.uci.edu/ml/datasets/Breast+Cancer) we loaded the Dataset and get the headline from the documentation how it looks like this moment.\n",
    "\n",
    "1. Class: no-recurrence-events, recurrence-events \n",
    "2. age: 10-19, 20-29, 30-39, 40-49, 50-59, 60-69, 70-79, 80-89, 90-99. \n",
    "3. menopause: lt40, ge40, premeno. \n",
    "4. tumor-size: 0-4, 5-9, 10-14, 15-19, 20-24, 25-29, 30-34, 35-39, 40-44, 45-49, 50-54, 55-59. \n",
    "5. inv-nodes: 0-2, 3-5, 6-8, 9-11, 12-14, 15-17, 18-20, 21-23, 24-26, 27-29, 30-32, 33-35, 36-39. \n",
    "6. node-caps: yes, no. \n",
    "7. deg-malig: 1, 2, 3. \n",
    "8. breast: left, right. \n",
    "9. breast-quad: left-up, left-low, right-up, right-low, central. \n",
    "10. irradiat: yes, no.\n",
    "\n",
    "So now lets add this headline to our dataset:"
   ]
  },
  {
   "cell_type": "code",
   "execution_count": 3,
   "metadata": {},
   "outputs": [],
   "source": [
    "Frame=pd.DataFrame(Cov.values, columns = [\"class\",\"age\",\"menopause\", \"tumor-size\",\"inv-nodes\",\"node-caps\",\"deg-malig\",\"breast\",\"breast-quad\",\"irradiat\"])\n"
   ]
  },
  {
   "cell_type": "markdown",
   "metadata": {},
   "source": [
    "#### Generate csv with corrected Data"
   ]
  },
  {
   "cell_type": "code",
   "execution_count": 4,
   "metadata": {},
   "outputs": [],
   "source": [
    "Frame.to_csv(\"breast-cancer-head-line.csv\", sep=',')\n",
    "df = pd.read_csv(\"breast-cancer-head-line.csv\", delimiter=',', index_col=0)"
   ]
  },
  {
   "cell_type": "markdown",
   "metadata": {},
   "source": [
    "#### Generate an exel from the Data to offer this to 'non developer'"
   ]
  },
  {
   "cell_type": "code",
   "execution_count": 5,
   "metadata": {},
   "outputs": [],
   "source": [
    "df.to_excel(\"breast-cancer-head-line.xls\", sheet_name=\"data\")"
   ]
  },
  {
   "cell_type": "markdown",
   "metadata": {},
   "source": [
    "#### Get first entries for our data"
   ]
  },
  {
   "cell_type": "code",
   "execution_count": 6,
   "metadata": {},
   "outputs": [
    {
     "data": {
      "text/html": [
       "<div>\n",
       "<style scoped>\n",
       "    .dataframe tbody tr th:only-of-type {\n",
       "        vertical-align: middle;\n",
       "    }\n",
       "\n",
       "    .dataframe tbody tr th {\n",
       "        vertical-align: top;\n",
       "    }\n",
       "\n",
       "    .dataframe thead th {\n",
       "        text-align: right;\n",
       "    }\n",
       "</style>\n",
       "<table border=\"1\" class=\"dataframe\">\n",
       "  <thead>\n",
       "    <tr style=\"text-align: right;\">\n",
       "      <th></th>\n",
       "      <th>class</th>\n",
       "      <th>age</th>\n",
       "      <th>menopause</th>\n",
       "      <th>tumor-size</th>\n",
       "      <th>inv-nodes</th>\n",
       "      <th>node-caps</th>\n",
       "      <th>deg-malig</th>\n",
       "      <th>breast</th>\n",
       "      <th>breast-quad</th>\n",
       "      <th>irradiat</th>\n",
       "    </tr>\n",
       "  </thead>\n",
       "  <tbody>\n",
       "    <tr>\n",
       "      <th>0</th>\n",
       "      <td>no-recurrence-events</td>\n",
       "      <td>40-49</td>\n",
       "      <td>premeno</td>\n",
       "      <td>20-24</td>\n",
       "      <td>0-2</td>\n",
       "      <td>no</td>\n",
       "      <td>2</td>\n",
       "      <td>right</td>\n",
       "      <td>right_up</td>\n",
       "      <td>no</td>\n",
       "    </tr>\n",
       "    <tr>\n",
       "      <th>1</th>\n",
       "      <td>no-recurrence-events</td>\n",
       "      <td>40-49</td>\n",
       "      <td>premeno</td>\n",
       "      <td>20-24</td>\n",
       "      <td>0-2</td>\n",
       "      <td>no</td>\n",
       "      <td>2</td>\n",
       "      <td>left</td>\n",
       "      <td>left_low</td>\n",
       "      <td>no</td>\n",
       "    </tr>\n",
       "    <tr>\n",
       "      <th>2</th>\n",
       "      <td>no-recurrence-events</td>\n",
       "      <td>60-69</td>\n",
       "      <td>ge40</td>\n",
       "      <td>15-19</td>\n",
       "      <td>0-2</td>\n",
       "      <td>no</td>\n",
       "      <td>2</td>\n",
       "      <td>right</td>\n",
       "      <td>left_up</td>\n",
       "      <td>no</td>\n",
       "    </tr>\n",
       "    <tr>\n",
       "      <th>3</th>\n",
       "      <td>no-recurrence-events</td>\n",
       "      <td>40-49</td>\n",
       "      <td>premeno</td>\n",
       "      <td>0-4</td>\n",
       "      <td>0-2</td>\n",
       "      <td>no</td>\n",
       "      <td>2</td>\n",
       "      <td>right</td>\n",
       "      <td>right_low</td>\n",
       "      <td>no</td>\n",
       "    </tr>\n",
       "    <tr>\n",
       "      <th>4</th>\n",
       "      <td>no-recurrence-events</td>\n",
       "      <td>60-69</td>\n",
       "      <td>ge40</td>\n",
       "      <td>15-19</td>\n",
       "      <td>0-2</td>\n",
       "      <td>no</td>\n",
       "      <td>2</td>\n",
       "      <td>left</td>\n",
       "      <td>left_low</td>\n",
       "      <td>no</td>\n",
       "    </tr>\n",
       "  </tbody>\n",
       "</table>\n",
       "</div>"
      ],
      "text/plain": [
       "                  class    age menopause tumor-size inv-nodes node-caps  \\\n",
       "0  no-recurrence-events  40-49   premeno      20-24       0-2        no   \n",
       "1  no-recurrence-events  40-49   premeno      20-24       0-2        no   \n",
       "2  no-recurrence-events  60-69      ge40      15-19       0-2        no   \n",
       "3  no-recurrence-events  40-49   premeno        0-4       0-2        no   \n",
       "4  no-recurrence-events  60-69      ge40      15-19       0-2        no   \n",
       "\n",
       "   deg-malig breast breast-quad irradiat  \n",
       "0          2  right    right_up       no  \n",
       "1          2   left    left_low       no  \n",
       "2          2  right     left_up       no  \n",
       "3          2  right   right_low       no  \n",
       "4          2   left    left_low       no  "
      ]
     },
     "execution_count": 6,
     "metadata": {},
     "output_type": "execute_result"
    }
   ],
   "source": [
    "df.head(5)"
   ]
  },
  {
   "cell_type": "markdown",
   "metadata": {},
   "source": [
    "#### Get an first overview about the Data"
   ]
  },
  {
   "cell_type": "code",
   "execution_count": 7,
   "metadata": {},
   "outputs": [
    {
     "data": {
      "text/plain": [
       "(285, 10)"
      ]
     },
     "execution_count": 7,
     "metadata": {},
     "output_type": "execute_result"
    }
   ],
   "source": [
    "df.shape"
   ]
  },
  {
   "cell_type": "code",
   "execution_count": 8,
   "metadata": {
    "scrolled": true
   },
   "outputs": [
    {
     "data": {
      "text/html": [
       "<div>\n",
       "<style scoped>\n",
       "    .dataframe tbody tr th:only-of-type {\n",
       "        vertical-align: middle;\n",
       "    }\n",
       "\n",
       "    .dataframe tbody tr th {\n",
       "        vertical-align: top;\n",
       "    }\n",
       "\n",
       "    .dataframe thead th {\n",
       "        text-align: right;\n",
       "    }\n",
       "</style>\n",
       "<table border=\"1\" class=\"dataframe\">\n",
       "  <thead>\n",
       "    <tr style=\"text-align: right;\">\n",
       "      <th></th>\n",
       "      <th>deg-malig</th>\n",
       "    </tr>\n",
       "  </thead>\n",
       "  <tbody>\n",
       "    <tr>\n",
       "      <th>count</th>\n",
       "      <td>285.000000</td>\n",
       "    </tr>\n",
       "    <tr>\n",
       "      <th>mean</th>\n",
       "      <td>2.045614</td>\n",
       "    </tr>\n",
       "    <tr>\n",
       "      <th>std</th>\n",
       "      <td>0.737351</td>\n",
       "    </tr>\n",
       "    <tr>\n",
       "      <th>min</th>\n",
       "      <td>1.000000</td>\n",
       "    </tr>\n",
       "    <tr>\n",
       "      <th>25%</th>\n",
       "      <td>2.000000</td>\n",
       "    </tr>\n",
       "    <tr>\n",
       "      <th>50%</th>\n",
       "      <td>2.000000</td>\n",
       "    </tr>\n",
       "    <tr>\n",
       "      <th>75%</th>\n",
       "      <td>3.000000</td>\n",
       "    </tr>\n",
       "    <tr>\n",
       "      <th>max</th>\n",
       "      <td>3.000000</td>\n",
       "    </tr>\n",
       "  </tbody>\n",
       "</table>\n",
       "</div>"
      ],
      "text/plain": [
       "        deg-malig\n",
       "count  285.000000\n",
       "mean     2.045614\n",
       "std      0.737351\n",
       "min      1.000000\n",
       "25%      2.000000\n",
       "50%      2.000000\n",
       "75%      3.000000\n",
       "max      3.000000"
      ]
     },
     "execution_count": 8,
     "metadata": {},
     "output_type": "execute_result"
    }
   ],
   "source": [
    "df.describe()"
   ]
  },
  {
   "cell_type": "markdown",
   "metadata": {},
   "source": [
    "## matplotlib\n",
    "\n",
    "Now we start to use matplotlib. The idea is to give our data informative graphics to understand it better. First we need to konfigurate the shape of our graphics as well as the size and colour.\n"
   ]
  },
  {
   "cell_type": "code",
   "execution_count": 9,
   "metadata": {},
   "outputs": [],
   "source": [
    "%matplotlib inline\n",
    "plt.style.use('ggplot')\n",
    "plt.rcParams['figure.figsize'] = (16.0, 8.0)"
   ]
  },
  {
   "cell_type": "markdown",
   "metadata": {},
   "source": [
    "#### First Figure "
   ]
  },
  {
   "cell_type": "code",
   "execution_count": 10,
   "metadata": {},
   "outputs": [
    {
     "data": {
      "image/png": "[encoded data removed]",
      "text/plain": [
       "<Figure size 1152x576 with 1 Axes>"
      ]
     },
     "metadata": {},
     "output_type": "display_data"
    }
   ],
   "source": [
    "plt.bar(x=df.age.unique(), height=df.age.value_counts())\n",
    "plt.xlabel('Age of patiens')\n",
    "plt.ylabel('Number patients')\n",
    "plt.suptitle('Distribution of patient age rage');"
   ]
  },
  {
   "cell_type": "markdown",
   "metadata": {},
   "source": [
    "#### Shaping datasets for plotting it\n",
    "\n",
    "Before we could start with displaying the data in different plots, we have to change it to a numeric writing. Because string is not supported by matplotlib diagramms.\n",
    "\n",
    "1. Class: no-recurrence-events = **0**, recurrence-events = **1** \n",
    "\n",
    "2. age: 10-19 = **10**, 20-29 = **20**, 30-39 = **30**, 40-49 = **40**, 50-59 = **50**, 60-69 = **60**, 70-79 = **70**, 80-89 = **80**, 90-99 = **90**.\n",
    "\n",
    "3. menopause: lt40 = **0**, ge40 = **1**, premeno = **2**. \n",
    "\n",
    "4. tumor-size: 0-4 = **0**, 5-9 = **5**, 10-14 = **10**, 15-19 = **15**, 20-24 = **20**, 25-29 = **25**, 30-34 = **30**, 35-39 = **35**, 40-44 = **40**, 45-49 = **45**, 50-54 = **50**, 55-59 = **55**.\n",
    "\n",
    "5. inv-nodes: 0-2 = **0**, 3-5 = **3**, 6-8 = **6**, 9-11 = **9**, 12-14 = **12**, 15-17 = **15**, 18-20 = **18**, 21-23 = **21**, 24-26 = **24**, 27-29 = **27**, 30-32 = **30**, 33-35 = **33**, 36-39 = **36**. \n",
    "\n",
    "6. node-caps: yes = **1**, no = **0**. \n",
    "\n",
    "7. deg-malig: 1, 2, 3. \n",
    "\n",
    "8. breast: left = **0**, right = **1**. \n",
    "\n",
    "9. breast-quad: left-up = **0**, left-low = **1**, right-up = **2**, right-low = **3**, central = **4**. \n",
    "\n",
    "10. irradiat: yes = **1**, no = **0**.\n",
    "\n",
    "Legend: lt40 means menopause before 40 years old\n",
    "ge40 means menopause after 40\n"
   ]
  },
  {
   "cell_type": "code",
   "execution_count": 11,
   "metadata": {},
   "outputs": [
    {
     "data": {
      "text/html": [
       "<div>\n",
       "<style scoped>\n",
       "    .dataframe tbody tr th:only-of-type {\n",
       "        vertical-align: middle;\n",
       "    }\n",
       "\n",
       "    .dataframe tbody tr th {\n",
       "        vertical-align: top;\n",
       "    }\n",
       "\n",
       "    .dataframe thead th {\n",
       "        text-align: right;\n",
       "    }\n",
       "</style>\n",
       "<table border=\"1\" class=\"dataframe\">\n",
       "  <thead>\n",
       "    <tr style=\"text-align: right;\">\n",
       "      <th></th>\n",
       "      <th>class</th>\n",
       "      <th>age</th>\n",
       "      <th>menopause</th>\n",
       "      <th>tumor-size</th>\n",
       "      <th>inv-nodes</th>\n",
       "      <th>node-caps</th>\n",
       "      <th>deg-malig</th>\n",
       "      <th>breast</th>\n",
       "      <th>breast-quad</th>\n",
       "      <th>irradiat</th>\n",
       "    </tr>\n",
       "  </thead>\n",
       "  <tbody>\n",
       "    <tr>\n",
       "      <th>0</th>\n",
       "      <td>no-recurrence-events</td>\n",
       "      <td>40</td>\n",
       "      <td>premeno</td>\n",
       "      <td>20</td>\n",
       "      <td>0-2</td>\n",
       "      <td>no</td>\n",
       "      <td>2</td>\n",
       "      <td>right</td>\n",
       "      <td>right_up</td>\n",
       "      <td>no</td>\n",
       "    </tr>\n",
       "    <tr>\n",
       "      <th>1</th>\n",
       "      <td>no-recurrence-events</td>\n",
       "      <td>40</td>\n",
       "      <td>premeno</td>\n",
       "      <td>20</td>\n",
       "      <td>0-2</td>\n",
       "      <td>no</td>\n",
       "      <td>2</td>\n",
       "      <td>left</td>\n",
       "      <td>left_low</td>\n",
       "      <td>no</td>\n",
       "    </tr>\n",
       "    <tr>\n",
       "      <th>2</th>\n",
       "      <td>no-recurrence-events</td>\n",
       "      <td>60</td>\n",
       "      <td>ge40</td>\n",
       "      <td>15</td>\n",
       "      <td>0-2</td>\n",
       "      <td>no</td>\n",
       "      <td>2</td>\n",
       "      <td>right</td>\n",
       "      <td>left_up</td>\n",
       "      <td>no</td>\n",
       "    </tr>\n",
       "    <tr>\n",
       "      <th>3</th>\n",
       "      <td>no-recurrence-events</td>\n",
       "      <td>40</td>\n",
       "      <td>premeno</td>\n",
       "      <td>0</td>\n",
       "      <td>0-2</td>\n",
       "      <td>no</td>\n",
       "      <td>2</td>\n",
       "      <td>right</td>\n",
       "      <td>right_low</td>\n",
       "      <td>no</td>\n",
       "    </tr>\n",
       "    <tr>\n",
       "      <th>4</th>\n",
       "      <td>no-recurrence-events</td>\n",
       "      <td>60</td>\n",
       "      <td>ge40</td>\n",
       "      <td>15</td>\n",
       "      <td>0-2</td>\n",
       "      <td>no</td>\n",
       "      <td>2</td>\n",
       "      <td>left</td>\n",
       "      <td>left_low</td>\n",
       "      <td>no</td>\n",
       "    </tr>\n",
       "  </tbody>\n",
       "</table>\n",
       "</div>"
      ],
      "text/plain": [
       "                  class  age menopause  tumor-size inv-nodes node-caps  \\\n",
       "0  no-recurrence-events   40   premeno          20       0-2        no   \n",
       "1  no-recurrence-events   40   premeno          20       0-2        no   \n",
       "2  no-recurrence-events   60      ge40          15       0-2        no   \n",
       "3  no-recurrence-events   40   premeno           0       0-2        no   \n",
       "4  no-recurrence-events   60      ge40          15       0-2        no   \n",
       "\n",
       "   deg-malig breast breast-quad irradiat  \n",
       "0          2  right    right_up       no  \n",
       "1          2   left    left_low       no  \n",
       "2          2  right     left_up       no  \n",
       "3          2  right   right_low       no  \n",
       "4          2   left    left_low       no  "
      ]
     },
     "execution_count": 11,
     "metadata": {},
     "output_type": "execute_result"
    }
   ],
   "source": [
    "#Change class\n",
    "#df['class'] = df['class'].map({'recurrence-events': 1, 'no-recurrence-events': 0})\n",
    "#Change Age \n",
    "df['age'] = df['age'].map({'10-19': 10, '20-29': 20, '30-39': 30, '40-49': 40, '50-59': 50, '60-69': 60, '70-79': 70, '80-89': 80, '90-99': 90})\n",
    "#Change Menopause\n",
    "#df['menopause'] = df['menopause'].map({'lt40': 0, 'ge40': 1, 'premeno': 2})\n",
    "#Change Tumor Size\n",
    "df['tumor-size'] = df['tumor-size'].map({'0-4': 0, '5-9': 5, '10-14': 10, '15-19': 15, '20-24': 20, '25-29': 25, '30-34': 30, '35-39': 35, '40-44': 40, '45-49': 45, '50-54': 50, '55-59': 55})\n",
    "#Change inv-nodes\n",
    "#df['inv-nodes'] = df['inv-nodes'].map({'0-2': 0, '3-5': 3, '6-8': 6, '9-11': 9, '12-14': 12, '15-17': 15, '18-20': 18, '21-23': 21, '24-26': 24, '27-29': 27, '30-32': 30, '33-35': 33, '36-39': 36})\n",
    "#Change node-caps\n",
    "#df['node-caps'] = df['node-caps'].map({'yes': 1, 'no': 0})\n",
    "#Change breast\n",
    "#df['breast'] = df['breast'].map({'right': 1, 'left': 0})\n",
    "#change breast-quad\n",
    "#df['breast-quad'] = df['breast-quad'].map({'left-up': 0, 'left-low': 1, 'right-up': 2, 'right-low': 3, 'central': 4})\n",
    "#change irradiat\n",
    "#df['irradiat'] = df['irradiat'].map({'yes': 1, 'no': 0})\n",
    "df.dtypes\n",
    "df.head()"
   ]
  },
  {
   "cell_type": "code",
   "execution_count": 37,
   "metadata": {},
   "outputs": [
    {
     "data": {
      "text/plain": [
       "class          object\n",
       "age             int64\n",
       "menopause       int64\n",
       "tumor-size      int64\n",
       "inv-nodes      object\n",
       "node-caps      object\n",
       "deg-malig       int64\n",
       "breast         object\n",
       "breast-quad    object\n",
       "irradiat       object\n",
       "dtype: object"
      ]
     },
     "execution_count": 37,
     "metadata": {},
     "output_type": "execute_result"
    }
   ],
   "source": [
    "df.dtypes"
   ]
  },
  {
   "cell_type": "code",
   "execution_count": 12,
   "metadata": {},
   "outputs": [
    {
     "data": {
      "image/png": "[encoded data removed]",
      "text/plain": [
       "<Figure size 1152x576 with 1 Axes>"
      ]
     },
     "metadata": {},
     "output_type": "display_data"
    }
   ],
   "source": [
    "plt.suptitle(\"Distribution of Age\")\n",
    "plt.hist(df['age'], \n",
    "         bins=6, \n",
    "         rwidth=0.9, \n",
    "         density = False, \n",
    "         color='dodgerblue')\n",
    "plt.xlabel('Age in Centuries')\n",
    "plt.ylabel('Number of entries per bin');"
   ]
  },
  {
   "cell_type": "code",
   "execution_count": 33,
   "metadata": {
    "scrolled": true
   },
   "outputs": [
    {
     "data": {
      "image/png": "[encoded data removed]",
      "text/plain": [
       "<Figure size 1152x576 with 1 Axes>"
      ]
     },
     "metadata": {},
     "output_type": "display_data"
    }
   ],
   "source": [
    "plt.suptitle(\"Tumor size vs Age\")\n",
    "plt.scatter(x=df[df['tumor-size'] < 90]['age'], \n",
    "            y=df[df['tumor-size'] < 70]['tumor-size'], \n",
    "            marker='.', \n",
    "            alpha=0.1, \n",
    "            color='dodgerblue')\n",
    "plt.xlabel('Age in Centuries')\n",
    "plt.ylabel('Tumor Size in mm');"
   ]
  },
  {
   "cell_type": "markdown",
   "metadata": {},
   "source": [
    "#### Information from a different display\n",
    "\n",
    "Lets have a look if we can get more information if we use a heat map instead of a scatter plot. Let us do a heatmap. If the heatmap is done, I would like the answer for the following questions:\n",
    "\n",
    "Do you think there are usefull information we could use for machine learning Training ?\n",
    "\n",
    "Do you think there is somehow a \"risk group\" ?\n",
    "\n",
    "If there is a risk group, how would you think could it be described?\n",
    "\n",
    "What would you recommend when precautionary investigation be more intense?"
   ]
  },
  {
   "cell_type": "code",
   "execution_count": 34,
   "metadata": {},
   "outputs": [
    {
     "data": {
      "image/png": "[encoded data removed]",
      "text/plain": [
       "<Figure size 1152x576 with 2 Axes>"
      ]
     },
     "metadata": {},
     "output_type": "display_data"
    }
   ],
   "source": [
    "plt.suptitle(\"Tumor size vs Age\")\n",
    "plt.hist2d(x=df[df['tumor-size'] < 60]['age'], \n",
    "           y=df[df['tumor-size'] < 70]['tumor-size'], \n",
    "           bins=10, \n",
    "           cmap=mpl.cm.jet)\n",
    "plt.xlabel('Age in Centuries')\n",
    "plt.ylabel('Tumor Size in mm');\n",
    "cb = plt.colorbar()\n",
    "cb.set_label('Number of entries per bin')"
   ]
  },
  {
   "cell_type": "code",
   "execution_count": 38,
   "metadata": {},
   "outputs": [
    {
     "data": {
      "text/plain": [
       "class          object\n",
       "age             int64\n",
       "menopause       int64\n",
       "tumor-size      int64\n",
       "inv-nodes      object\n",
       "node-caps      object\n",
       "deg-malig       int64\n",
       "breast         object\n",
       "breast-quad    object\n",
       "irradiat       object\n",
       "dtype: object"
      ]
     },
     "execution_count": 38,
     "metadata": {},
     "output_type": "execute_result"
    }
   ],
   "source": [
    "df.dtypes"
   ]
  },
  {
   "cell_type": "code",
   "execution_count": null,
   "metadata": {},
   "outputs": [],
   "source": []
  },
  {
   "cell_type": "markdown",
   "metadata": {},
   "source": [
    "#### Find additional information:\n",
    "\n",
    "We now have found out an information wich seems obvious. But with the knowledge we gained, we can use other parameters to let them correlate as well."
   ]
  },
  {
   "cell_type": "code",
   "execution_count": 15,
   "metadata": {},
   "outputs": [
    {
     "data": {
      "text/html": [
       "<div>\n",
       "<style scoped>\n",
       "    .dataframe tbody tr th:only-of-type {\n",
       "        vertical-align: middle;\n",
       "    }\n",
       "\n",
       "    .dataframe tbody tr th {\n",
       "        vertical-align: top;\n",
       "    }\n",
       "\n",
       "    .dataframe thead th {\n",
       "        text-align: right;\n",
       "    }\n",
       "</style>\n",
       "<table border=\"1\" class=\"dataframe\">\n",
       "  <thead>\n",
       "    <tr style=\"text-align: right;\">\n",
       "      <th></th>\n",
       "      <th>class</th>\n",
       "      <th>age</th>\n",
       "      <th>menopause</th>\n",
       "      <th>tumor-size</th>\n",
       "      <th>inv-nodes</th>\n",
       "      <th>node-caps</th>\n",
       "      <th>deg-malig</th>\n",
       "      <th>breast</th>\n",
       "      <th>breast-quad</th>\n",
       "      <th>irradiat</th>\n",
       "    </tr>\n",
       "  </thead>\n",
       "  <tbody>\n",
       "    <tr>\n",
       "      <th>0</th>\n",
       "      <td>no-recurrence-events</td>\n",
       "      <td>40</td>\n",
       "      <td>2</td>\n",
       "      <td>20</td>\n",
       "      <td>0-2</td>\n",
       "      <td>no</td>\n",
       "      <td>2</td>\n",
       "      <td>right</td>\n",
       "      <td>right_up</td>\n",
       "      <td>no</td>\n",
       "    </tr>\n",
       "    <tr>\n",
       "      <th>1</th>\n",
       "      <td>no-recurrence-events</td>\n",
       "      <td>40</td>\n",
       "      <td>2</td>\n",
       "      <td>20</td>\n",
       "      <td>0-2</td>\n",
       "      <td>no</td>\n",
       "      <td>2</td>\n",
       "      <td>left</td>\n",
       "      <td>left_low</td>\n",
       "      <td>no</td>\n",
       "    </tr>\n",
       "    <tr>\n",
       "      <th>2</th>\n",
       "      <td>no-recurrence-events</td>\n",
       "      <td>60</td>\n",
       "      <td>1</td>\n",
       "      <td>15</td>\n",
       "      <td>0-2</td>\n",
       "      <td>no</td>\n",
       "      <td>2</td>\n",
       "      <td>right</td>\n",
       "      <td>left_up</td>\n",
       "      <td>no</td>\n",
       "    </tr>\n",
       "    <tr>\n",
       "      <th>3</th>\n",
       "      <td>no-recurrence-events</td>\n",
       "      <td>40</td>\n",
       "      <td>2</td>\n",
       "      <td>0</td>\n",
       "      <td>0-2</td>\n",
       "      <td>no</td>\n",
       "      <td>2</td>\n",
       "      <td>right</td>\n",
       "      <td>right_low</td>\n",
       "      <td>no</td>\n",
       "    </tr>\n",
       "    <tr>\n",
       "      <th>4</th>\n",
       "      <td>no-recurrence-events</td>\n",
       "      <td>60</td>\n",
       "      <td>1</td>\n",
       "      <td>15</td>\n",
       "      <td>0-2</td>\n",
       "      <td>no</td>\n",
       "      <td>2</td>\n",
       "      <td>left</td>\n",
       "      <td>left_low</td>\n",
       "      <td>no</td>\n",
       "    </tr>\n",
       "  </tbody>\n",
       "</table>\n",
       "</div>"
      ],
      "text/plain": [
       "                  class  age  menopause  tumor-size inv-nodes node-caps  \\\n",
       "0  no-recurrence-events   40          2          20       0-2        no   \n",
       "1  no-recurrence-events   40          2          20       0-2        no   \n",
       "2  no-recurrence-events   60          1          15       0-2        no   \n",
       "3  no-recurrence-events   40          2           0       0-2        no   \n",
       "4  no-recurrence-events   60          1          15       0-2        no   \n",
       "\n",
       "   deg-malig breast breast-quad irradiat  \n",
       "0          2  right    right_up       no  \n",
       "1          2   left    left_low       no  \n",
       "2          2  right     left_up       no  \n",
       "3          2  right   right_low       no  \n",
       "4          2   left    left_low       no  "
      ]
     },
     "execution_count": 15,
     "metadata": {},
     "output_type": "execute_result"
    }
   ],
   "source": [
    "#Change Menopause\n",
    "df['menopause'] = df['menopause'].map({'lt40': 0, 'ge40': 1, 'premeno': 2})\n",
    "df.head()"
   ]
  },
  {
   "cell_type": "code",
   "execution_count": 16,
   "metadata": {},
   "outputs": [
    {
     "data": {
      "image/png": "[encoded data removed]",
      "text/plain": [
       "<Figure size 1152x576 with 1 Axes>"
      ]
     },
     "metadata": {},
     "output_type": "display_data"
    }
   ],
   "source": [
    "plt.suptitle(\"Menopause size vs Age\")\n",
    "plt.scatter(x=df[df['menopause'] < 3]['age'], \n",
    "            y=df[df['menopause'] < 3]['menopause'], \n",
    "            marker='.', \n",
    "            alpha=0.1, \n",
    "            color='dodgerblue')\n",
    "plt.xlabel('Menopause lt40 = **0**, ge40 = **1**, premeno = **2**. ')\n",
    "plt.ylabel('Age in Centuries');"
   ]
  },
  {
   "cell_type": "code",
   "execution_count": 20,
   "metadata": {},
   "outputs": [
    {
     "data": {
      "image/png": "[encoded data removed]",
      "text/plain": [
       "<Figure size 1152x576 with 2 Axes>"
      ]
     },
     "metadata": {},
     "output_type": "display_data"
    }
   ],
   "source": [
    "plt.suptitle(\"Menopause size vs Age\")\n",
    "plt.hist2d(x=df[df['menopause'] < 90]['age'], \n",
    "           y=df[df['menopause'] < 3]['menopause'], \n",
    "           bins=10, \n",
    "           cmap=mpl.cm.jet)\n",
    "plt.xlabel('Menopause lt40 = **0**, ge40 = **1**, premeno = **2**. ')\n",
    "plt.ylabel('Age in Centuries');\n",
    "cb = plt.colorbar()\n",
    "cb.set_label('Number of entries per bin')"
   ]
  },
  {
   "cell_type": "markdown",
   "metadata": {},
   "source": [
    "#### Eveluation information\n",
    "\n",
    "Does this grafic give us any usefull (cancer relatet) information?\n",
    "\n",
    "If yes what kind ? If no why?"
   ]
  },
  {
   "cell_type": "markdown",
   "metadata": {},
   "source": [
    "#### Different approach\n",
    "\n"
   ]
  }
 ],
 "metadata": {
  "kernelspec": {
   "display_name": "Python 3",
   "language": "python",
   "name": "python3"
  },
  "language_info": {
   "codemirror_mode": {
    "name": "ipython",
    "version": 3
   },
   "file_extension": ".py",
   "mimetype": "text/x-python",
   "name": "python",
   "nbconvert_exporter": "python",
   "pygments_lexer": "ipython3",
   "version": "3.7.1"
  }
 },
 "nbformat": 4,
 "nbformat_minor": 2
}
